{
 "cells": [
  {
   "cell_type": "markdown",
   "id": "a4249eaa",
   "metadata": {
    "papermill": {
     "duration": 0.006758,
     "end_time": "2024-11-28T14:01:25.645056",
     "exception": false,
     "start_time": "2024-11-28T14:01:25.638298",
     "status": "completed"
    },
    "tags": []
   },
   "source": [
    "# Machine Learning Project for Student Depression Data Set\n",
    "\n",
    "*A student depression dataset typically contains data aimed at analyzing, understanding, and predicting depression levels among students. It may include features such as demographic information (age, gender), academic performance (grades, attendance), lifestyle habits (sleep patterns, exercise, social activities), mental health history, and responses to standardized depression scales. - Data from [Kaggle](https://www.kaggle.com/datasets/hopesb/student-depression-dataset)*\n",
    "\n",
    "In this notebook, we will create some classifiers. Let's start with this part where we will examine and preprocess the data set."
   ]
  },
  {
   "cell_type": "code",
   "execution_count": 1,
   "id": "f195d82b",
   "metadata": {
    "execution": {
     "iopub.execute_input": "2024-11-28T14:01:25.658684Z",
     "iopub.status.busy": "2024-11-28T14:01:25.658285Z",
     "iopub.status.idle": "2024-11-28T14:01:29.101482Z",
     "shell.execute_reply": "2024-11-28T14:01:29.099702Z"
    },
    "papermill": {
     "duration": 3.452729,
     "end_time": "2024-11-28T14:01:29.103917",
     "exception": false,
     "start_time": "2024-11-28T14:01:25.651188",
     "status": "completed"
    },
    "tags": []
   },
   "outputs": [
    {
     "name": "stdout",
     "output_type": "stream",
     "text": [
      "All imports were successful!\n"
     ]
    }
   ],
   "source": [
    "# Imports\n",
    "import pandas as pd\n",
    "import matplotlib.pyplot as plt\n",
    "import lightgbm as lgb\n",
    "from sklearn.model_selection import train_test_split, GridSearchCV\n",
    "from sklearn.tree import DecisionTreeClassifier\n",
    "from sklearn.metrics import accuracy_score, recall_score, f1_score\n",
    "from sklearn.ensemble import RandomForestClassifier, ExtraTreesClassifier, AdaBoostClassifier\n",
    "import warnings\n",
    "warnings.filterwarnings('ignore')\n",
    "\n",
    "print('All imports were successful!')"
   ]
  },
  {
   "cell_type": "markdown",
   "id": "07388e74",
   "metadata": {
    "papermill": {
     "duration": 0.006027,
     "end_time": "2024-11-28T14:01:29.116796",
     "exception": false,
     "start_time": "2024-11-28T14:01:29.110769",
     "status": "completed"
    },
    "tags": []
   },
   "source": [
    "Create the data set variable."
   ]
  },
  {
   "cell_type": "code",
   "execution_count": 2,
   "id": "5be9a3a8",
   "metadata": {
    "execution": {
     "iopub.execute_input": "2024-11-28T14:01:29.131123Z",
     "iopub.status.busy": "2024-11-28T14:01:29.130478Z",
     "iopub.status.idle": "2024-11-28T14:01:29.270593Z",
     "shell.execute_reply": "2024-11-28T14:01:29.269462Z"
    },
    "papermill": {
     "duration": 0.149713,
     "end_time": "2024-11-28T14:01:29.272801",
     "exception": false,
     "start_time": "2024-11-28T14:01:29.123088",
     "status": "completed"
    },
    "tags": []
   },
   "outputs": [
    {
     "data": {
      "text/html": [
       "<div>\n",
       "<style scoped>\n",
       "    .dataframe tbody tr th:only-of-type {\n",
       "        vertical-align: middle;\n",
       "    }\n",
       "\n",
       "    .dataframe tbody tr th {\n",
       "        vertical-align: top;\n",
       "    }\n",
       "\n",
       "    .dataframe thead th {\n",
       "        text-align: right;\n",
       "    }\n",
       "</style>\n",
       "<table border=\"1\" class=\"dataframe\">\n",
       "  <thead>\n",
       "    <tr style=\"text-align: right;\">\n",
       "      <th></th>\n",
       "      <th>id</th>\n",
       "      <th>Gender</th>\n",
       "      <th>Age</th>\n",
       "      <th>City</th>\n",
       "      <th>Profession</th>\n",
       "      <th>Academic Pressure</th>\n",
       "      <th>Work Pressure</th>\n",
       "      <th>CGPA</th>\n",
       "      <th>Study Satisfaction</th>\n",
       "      <th>Job Satisfaction</th>\n",
       "      <th>Sleep Duration</th>\n",
       "      <th>Dietary Habits</th>\n",
       "      <th>Degree</th>\n",
       "      <th>Have you ever had suicidal thoughts ?</th>\n",
       "      <th>Work/Study Hours</th>\n",
       "      <th>Financial Stress</th>\n",
       "      <th>Family History of Mental Illness</th>\n",
       "      <th>Depression</th>\n",
       "    </tr>\n",
       "  </thead>\n",
       "  <tbody>\n",
       "    <tr>\n",
       "      <th>0</th>\n",
       "      <td>2</td>\n",
       "      <td>Male</td>\n",
       "      <td>33.0</td>\n",
       "      <td>Visakhapatnam</td>\n",
       "      <td>Student</td>\n",
       "      <td>5.0</td>\n",
       "      <td>0.0</td>\n",
       "      <td>8.97</td>\n",
       "      <td>2.0</td>\n",
       "      <td>0.0</td>\n",
       "      <td>5-6 hours</td>\n",
       "      <td>Healthy</td>\n",
       "      <td>B.Pharm</td>\n",
       "      <td>Yes</td>\n",
       "      <td>3.0</td>\n",
       "      <td>1.0</td>\n",
       "      <td>No</td>\n",
       "      <td>1</td>\n",
       "    </tr>\n",
       "    <tr>\n",
       "      <th>1</th>\n",
       "      <td>8</td>\n",
       "      <td>Female</td>\n",
       "      <td>24.0</td>\n",
       "      <td>Bangalore</td>\n",
       "      <td>Student</td>\n",
       "      <td>2.0</td>\n",
       "      <td>0.0</td>\n",
       "      <td>5.90</td>\n",
       "      <td>5.0</td>\n",
       "      <td>0.0</td>\n",
       "      <td>5-6 hours</td>\n",
       "      <td>Moderate</td>\n",
       "      <td>BSc</td>\n",
       "      <td>No</td>\n",
       "      <td>3.0</td>\n",
       "      <td>2.0</td>\n",
       "      <td>Yes</td>\n",
       "      <td>0</td>\n",
       "    </tr>\n",
       "    <tr>\n",
       "      <th>2</th>\n",
       "      <td>26</td>\n",
       "      <td>Male</td>\n",
       "      <td>31.0</td>\n",
       "      <td>Srinagar</td>\n",
       "      <td>Student</td>\n",
       "      <td>3.0</td>\n",
       "      <td>0.0</td>\n",
       "      <td>7.03</td>\n",
       "      <td>5.0</td>\n",
       "      <td>0.0</td>\n",
       "      <td>Less than 5 hours</td>\n",
       "      <td>Healthy</td>\n",
       "      <td>BA</td>\n",
       "      <td>No</td>\n",
       "      <td>9.0</td>\n",
       "      <td>1.0</td>\n",
       "      <td>Yes</td>\n",
       "      <td>0</td>\n",
       "    </tr>\n",
       "    <tr>\n",
       "      <th>3</th>\n",
       "      <td>30</td>\n",
       "      <td>Female</td>\n",
       "      <td>28.0</td>\n",
       "      <td>Varanasi</td>\n",
       "      <td>Student</td>\n",
       "      <td>3.0</td>\n",
       "      <td>0.0</td>\n",
       "      <td>5.59</td>\n",
       "      <td>2.0</td>\n",
       "      <td>0.0</td>\n",
       "      <td>7-8 hours</td>\n",
       "      <td>Moderate</td>\n",
       "      <td>BCA</td>\n",
       "      <td>Yes</td>\n",
       "      <td>4.0</td>\n",
       "      <td>5.0</td>\n",
       "      <td>Yes</td>\n",
       "      <td>1</td>\n",
       "    </tr>\n",
       "    <tr>\n",
       "      <th>4</th>\n",
       "      <td>32</td>\n",
       "      <td>Female</td>\n",
       "      <td>25.0</td>\n",
       "      <td>Jaipur</td>\n",
       "      <td>Student</td>\n",
       "      <td>4.0</td>\n",
       "      <td>0.0</td>\n",
       "      <td>8.13</td>\n",
       "      <td>3.0</td>\n",
       "      <td>0.0</td>\n",
       "      <td>5-6 hours</td>\n",
       "      <td>Moderate</td>\n",
       "      <td>M.Tech</td>\n",
       "      <td>Yes</td>\n",
       "      <td>1.0</td>\n",
       "      <td>1.0</td>\n",
       "      <td>No</td>\n",
       "      <td>0</td>\n",
       "    </tr>\n",
       "  </tbody>\n",
       "</table>\n",
       "</div>"
      ],
      "text/plain": [
       "   id  Gender   Age           City Profession  Academic Pressure  \\\n",
       "0   2    Male  33.0  Visakhapatnam    Student                5.0   \n",
       "1   8  Female  24.0      Bangalore    Student                2.0   \n",
       "2  26    Male  31.0       Srinagar    Student                3.0   \n",
       "3  30  Female  28.0       Varanasi    Student                3.0   \n",
       "4  32  Female  25.0         Jaipur    Student                4.0   \n",
       "\n",
       "   Work Pressure  CGPA  Study Satisfaction  Job Satisfaction  \\\n",
       "0            0.0  8.97                 2.0               0.0   \n",
       "1            0.0  5.90                 5.0               0.0   \n",
       "2            0.0  7.03                 5.0               0.0   \n",
       "3            0.0  5.59                 2.0               0.0   \n",
       "4            0.0  8.13                 3.0               0.0   \n",
       "\n",
       "      Sleep Duration Dietary Habits   Degree  \\\n",
       "0          5-6 hours        Healthy  B.Pharm   \n",
       "1          5-6 hours       Moderate      BSc   \n",
       "2  Less than 5 hours        Healthy       BA   \n",
       "3          7-8 hours       Moderate      BCA   \n",
       "4          5-6 hours       Moderate   M.Tech   \n",
       "\n",
       "  Have you ever had suicidal thoughts ?  Work/Study Hours  Financial Stress  \\\n",
       "0                                   Yes               3.0               1.0   \n",
       "1                                    No               3.0               2.0   \n",
       "2                                    No               9.0               1.0   \n",
       "3                                   Yes               4.0               5.0   \n",
       "4                                   Yes               1.0               1.0   \n",
       "\n",
       "  Family History of Mental Illness  Depression  \n",
       "0                               No           1  \n",
       "1                              Yes           0  \n",
       "2                              Yes           0  \n",
       "3                              Yes           1  \n",
       "4                               No           0  "
      ]
     },
     "execution_count": 2,
     "metadata": {},
     "output_type": "execute_result"
    }
   ],
   "source": [
    "df = pd.read_csv('/kaggle/input/student-depression-dataset/Student Depression Dataset.csv')\n",
    "df.head()"
   ]
  },
  {
   "cell_type": "markdown",
   "id": "202a7acc",
   "metadata": {
    "papermill": {
     "duration": 0.006002,
     "end_time": "2024-11-28T14:01:29.286164",
     "exception": false,
     "start_time": "2024-11-28T14:01:29.280162",
     "status": "completed"
    },
    "tags": []
   },
   "source": [
    "<code>id</code> column is not necessary of our project. Let's remove it from our <code>df</code> variable."
   ]
  },
  {
   "cell_type": "code",
   "execution_count": 3,
   "id": "29f6332e",
   "metadata": {
    "execution": {
     "iopub.execute_input": "2024-11-28T14:01:29.300335Z",
     "iopub.status.busy": "2024-11-28T14:01:29.299978Z",
     "iopub.status.idle": "2024-11-28T14:01:29.312893Z",
     "shell.execute_reply": "2024-11-28T14:01:29.311894Z"
    },
    "papermill": {
     "duration": 0.022627,
     "end_time": "2024-11-28T14:01:29.315155",
     "exception": false,
     "start_time": "2024-11-28T14:01:29.292528",
     "status": "completed"
    },
    "tags": []
   },
   "outputs": [],
   "source": [
    "df.drop(['id'], axis=1, inplace=True)"
   ]
  },
  {
   "cell_type": "markdown",
   "id": "f6c18e6b",
   "metadata": {
    "papermill": {
     "duration": 0.006059,
     "end_time": "2024-11-28T14:01:29.327663",
     "exception": false,
     "start_time": "2024-11-28T14:01:29.321604",
     "status": "completed"
    },
    "tags": []
   },
   "source": [
    "So, wonderful! In our data set, we have some columns with categorical data. But for machine learning process, we do not want them. Algorithms we will use require numeric data. So, let's convert our categorical features."
   ]
  },
  {
   "cell_type": "code",
   "execution_count": 4,
   "id": "51df1bdc",
   "metadata": {
    "execution": {
     "iopub.execute_input": "2024-11-28T14:01:29.342360Z",
     "iopub.status.busy": "2024-11-28T14:01:29.342010Z",
     "iopub.status.idle": "2024-11-28T14:01:29.347938Z",
     "shell.execute_reply": "2024-11-28T14:01:29.346792Z"
    },
    "papermill": {
     "duration": 0.01614,
     "end_time": "2024-11-28T14:01:29.350050",
     "exception": false,
     "start_time": "2024-11-28T14:01:29.333910",
     "status": "completed"
    },
    "tags": []
   },
   "outputs": [],
   "source": [
    "def convert_column_to_numeric(df, col):\n",
    "    # Create a dict\n",
    "    unique_values = df[col].unique()\n",
    "    value_to_number = {value: idx + 1 for idx, value in enumerate(unique_values)}\n",
    "\n",
    "    # Convert column\n",
    "    df[col] = df[col].map(value_to_number)\n",
    "\n",
    "    return df, value_to_number"
   ]
  },
  {
   "cell_type": "code",
   "execution_count": 5,
   "id": "0d5cabbd",
   "metadata": {
    "execution": {
     "iopub.execute_input": "2024-11-28T14:01:29.363938Z",
     "iopub.status.busy": "2024-11-28T14:01:29.363562Z",
     "iopub.status.idle": "2024-11-28T14:01:29.413581Z",
     "shell.execute_reply": "2024-11-28T14:01:29.412298Z"
    },
    "papermill": {
     "duration": 0.059866,
     "end_time": "2024-11-28T14:01:29.416142",
     "exception": false,
     "start_time": "2024-11-28T14:01:29.356276",
     "status": "completed"
    },
    "tags": []
   },
   "outputs": [
    {
     "data": {
      "text/html": [
       "<div>\n",
       "<style scoped>\n",
       "    .dataframe tbody tr th:only-of-type {\n",
       "        vertical-align: middle;\n",
       "    }\n",
       "\n",
       "    .dataframe tbody tr th {\n",
       "        vertical-align: top;\n",
       "    }\n",
       "\n",
       "    .dataframe thead th {\n",
       "        text-align: right;\n",
       "    }\n",
       "</style>\n",
       "<table border=\"1\" class=\"dataframe\">\n",
       "  <thead>\n",
       "    <tr style=\"text-align: right;\">\n",
       "      <th></th>\n",
       "      <th>Gender</th>\n",
       "      <th>Age</th>\n",
       "      <th>City</th>\n",
       "      <th>Profession</th>\n",
       "      <th>Academic Pressure</th>\n",
       "      <th>Work Pressure</th>\n",
       "      <th>CGPA</th>\n",
       "      <th>Study Satisfaction</th>\n",
       "      <th>Job Satisfaction</th>\n",
       "      <th>Sleep Duration</th>\n",
       "      <th>Dietary Habits</th>\n",
       "      <th>Degree</th>\n",
       "      <th>Have you ever had suicidal thoughts ?</th>\n",
       "      <th>Work/Study Hours</th>\n",
       "      <th>Financial Stress</th>\n",
       "      <th>Family History of Mental Illness</th>\n",
       "      <th>Depression</th>\n",
       "    </tr>\n",
       "  </thead>\n",
       "  <tbody>\n",
       "    <tr>\n",
       "      <th>0</th>\n",
       "      <td>1</td>\n",
       "      <td>33.0</td>\n",
       "      <td>1</td>\n",
       "      <td>1</td>\n",
       "      <td>5.0</td>\n",
       "      <td>0.0</td>\n",
       "      <td>8.97</td>\n",
       "      <td>2.0</td>\n",
       "      <td>0.0</td>\n",
       "      <td>5-6 hours</td>\n",
       "      <td>1</td>\n",
       "      <td>1</td>\n",
       "      <td>1</td>\n",
       "      <td>3.0</td>\n",
       "      <td>1.0</td>\n",
       "      <td>1</td>\n",
       "      <td>1</td>\n",
       "    </tr>\n",
       "    <tr>\n",
       "      <th>1</th>\n",
       "      <td>2</td>\n",
       "      <td>24.0</td>\n",
       "      <td>2</td>\n",
       "      <td>1</td>\n",
       "      <td>2.0</td>\n",
       "      <td>0.0</td>\n",
       "      <td>5.90</td>\n",
       "      <td>5.0</td>\n",
       "      <td>0.0</td>\n",
       "      <td>5-6 hours</td>\n",
       "      <td>2</td>\n",
       "      <td>2</td>\n",
       "      <td>2</td>\n",
       "      <td>3.0</td>\n",
       "      <td>2.0</td>\n",
       "      <td>2</td>\n",
       "      <td>0</td>\n",
       "    </tr>\n",
       "    <tr>\n",
       "      <th>2</th>\n",
       "      <td>1</td>\n",
       "      <td>31.0</td>\n",
       "      <td>3</td>\n",
       "      <td>1</td>\n",
       "      <td>3.0</td>\n",
       "      <td>0.0</td>\n",
       "      <td>7.03</td>\n",
       "      <td>5.0</td>\n",
       "      <td>0.0</td>\n",
       "      <td>Less than 5 hours</td>\n",
       "      <td>1</td>\n",
       "      <td>3</td>\n",
       "      <td>2</td>\n",
       "      <td>9.0</td>\n",
       "      <td>1.0</td>\n",
       "      <td>2</td>\n",
       "      <td>0</td>\n",
       "    </tr>\n",
       "    <tr>\n",
       "      <th>3</th>\n",
       "      <td>2</td>\n",
       "      <td>28.0</td>\n",
       "      <td>4</td>\n",
       "      <td>1</td>\n",
       "      <td>3.0</td>\n",
       "      <td>0.0</td>\n",
       "      <td>5.59</td>\n",
       "      <td>2.0</td>\n",
       "      <td>0.0</td>\n",
       "      <td>7-8 hours</td>\n",
       "      <td>2</td>\n",
       "      <td>4</td>\n",
       "      <td>1</td>\n",
       "      <td>4.0</td>\n",
       "      <td>5.0</td>\n",
       "      <td>2</td>\n",
       "      <td>1</td>\n",
       "    </tr>\n",
       "    <tr>\n",
       "      <th>4</th>\n",
       "      <td>2</td>\n",
       "      <td>25.0</td>\n",
       "      <td>5</td>\n",
       "      <td>1</td>\n",
       "      <td>4.0</td>\n",
       "      <td>0.0</td>\n",
       "      <td>8.13</td>\n",
       "      <td>3.0</td>\n",
       "      <td>0.0</td>\n",
       "      <td>5-6 hours</td>\n",
       "      <td>2</td>\n",
       "      <td>5</td>\n",
       "      <td>1</td>\n",
       "      <td>1.0</td>\n",
       "      <td>1.0</td>\n",
       "      <td>1</td>\n",
       "      <td>0</td>\n",
       "    </tr>\n",
       "  </tbody>\n",
       "</table>\n",
       "</div>"
      ],
      "text/plain": [
       "   Gender   Age  City  Profession  Academic Pressure  Work Pressure  CGPA  \\\n",
       "0       1  33.0     1           1                5.0            0.0  8.97   \n",
       "1       2  24.0     2           1                2.0            0.0  5.90   \n",
       "2       1  31.0     3           1                3.0            0.0  7.03   \n",
       "3       2  28.0     4           1                3.0            0.0  5.59   \n",
       "4       2  25.0     5           1                4.0            0.0  8.13   \n",
       "\n",
       "   Study Satisfaction  Job Satisfaction     Sleep Duration  Dietary Habits  \\\n",
       "0                 2.0               0.0          5-6 hours               1   \n",
       "1                 5.0               0.0          5-6 hours               2   \n",
       "2                 5.0               0.0  Less than 5 hours               1   \n",
       "3                 2.0               0.0          7-8 hours               2   \n",
       "4                 3.0               0.0          5-6 hours               2   \n",
       "\n",
       "   Degree  Have you ever had suicidal thoughts ?  Work/Study Hours  \\\n",
       "0       1                                      1               3.0   \n",
       "1       2                                      2               3.0   \n",
       "2       3                                      2               9.0   \n",
       "3       4                                      1               4.0   \n",
       "4       5                                      1               1.0   \n",
       "\n",
       "   Financial Stress  Family History of Mental Illness  Depression  \n",
       "0               1.0                                 1           1  \n",
       "1               2.0                                 2           0  \n",
       "2               1.0                                 2           0  \n",
       "3               5.0                                 2           1  \n",
       "4               1.0                                 1           0  "
      ]
     },
     "execution_count": 5,
     "metadata": {},
     "output_type": "execute_result"
    }
   ],
   "source": [
    "# Convert categorical data\n",
    "convert_column_to_numeric(df, 'Gender')\n",
    "convert_column_to_numeric(df, 'Profession')\n",
    "convert_column_to_numeric(df, 'Dietary Habits')\n",
    "convert_column_to_numeric(df, 'Degree')\n",
    "convert_column_to_numeric(df, 'Have you ever had suicidal thoughts ?')\n",
    "convert_column_to_numeric(df, 'Family History of Mental Illness')\n",
    "convert_column_to_numeric(df, 'City')\n",
    "\n",
    "df.head()"
   ]
  },
  {
   "cell_type": "markdown",
   "id": "97156f17",
   "metadata": {
    "papermill": {
     "duration": 0.006485,
     "end_time": "2024-11-28T14:01:29.429308",
     "exception": false,
     "start_time": "2024-11-28T14:01:29.422823",
     "status": "completed"
    },
    "tags": []
   },
   "source": [
    "For <code>Sleep Duration</code> column, it is good to convert it as *certain* values."
   ]
  },
  {
   "cell_type": "code",
   "execution_count": 6,
   "id": "aaec85b5",
   "metadata": {
    "execution": {
     "iopub.execute_input": "2024-11-28T14:01:29.444039Z",
     "iopub.status.busy": "2024-11-28T14:01:29.443575Z",
     "iopub.status.idle": "2024-11-28T14:01:29.467150Z",
     "shell.execute_reply": "2024-11-28T14:01:29.466070Z"
    },
    "papermill": {
     "duration": 0.033725,
     "end_time": "2024-11-28T14:01:29.469529",
     "exception": false,
     "start_time": "2024-11-28T14:01:29.435804",
     "status": "completed"
    },
    "tags": []
   },
   "outputs": [
    {
     "name": "stdout",
     "output_type": "stream",
     "text": [
      "<class 'pandas.core.series.Series'>\n",
      "RangeIndex: 27901 entries, 0 to 27900\n",
      "Series name: Sleep Duration\n",
      "Non-Null Count  Dtype  \n",
      "--------------  -----  \n",
      "27901 non-null  float64\n",
      "dtypes: float64(1)\n",
      "memory usage: 218.1 KB\n"
     ]
    }
   ],
   "source": [
    "# Convert from string to float\n",
    "convert = {\n",
    "    '5-6 hours': 5.5,\n",
    "    'Less than 5 hours': 4.5,\n",
    "    '7-8 hours': 7.8,\n",
    "    'More than 8 hours': 8.5,\n",
    "    'Others': 0\n",
    "}\n",
    "\n",
    "df['Sleep Duration'] = df['Sleep Duration'].map(convert)\n",
    "df['Sleep Duration'] = df['Sleep Duration'].astype(float)\n",
    "df['Sleep Duration'].info()"
   ]
  },
  {
   "cell_type": "markdown",
   "id": "8f2ac9d4",
   "metadata": {
    "papermill": {
     "duration": 0.006431,
     "end_time": "2024-11-28T14:01:29.482572",
     "exception": false,
     "start_time": "2024-11-28T14:01:29.476141",
     "status": "completed"
    },
    "tags": []
   },
   "source": [
    "We made our data full with numerical variables so far. Let's control it."
   ]
  },
  {
   "cell_type": "code",
   "execution_count": 7,
   "id": "a1565a6c",
   "metadata": {
    "execution": {
     "iopub.execute_input": "2024-11-28T14:01:29.497935Z",
     "iopub.status.busy": "2024-11-28T14:01:29.497555Z",
     "iopub.status.idle": "2024-11-28T14:01:29.511698Z",
     "shell.execute_reply": "2024-11-28T14:01:29.510428Z"
    },
    "papermill": {
     "duration": 0.024936,
     "end_time": "2024-11-28T14:01:29.514067",
     "exception": false,
     "start_time": "2024-11-28T14:01:29.489131",
     "status": "completed"
    },
    "tags": []
   },
   "outputs": [
    {
     "name": "stdout",
     "output_type": "stream",
     "text": [
      "<class 'pandas.core.frame.DataFrame'>\n",
      "RangeIndex: 27901 entries, 0 to 27900\n",
      "Data columns (total 17 columns):\n",
      " #   Column                                 Non-Null Count  Dtype  \n",
      "---  ------                                 --------------  -----  \n",
      " 0   Gender                                 27901 non-null  int64  \n",
      " 1   Age                                    27901 non-null  float64\n",
      " 2   City                                   27901 non-null  int64  \n",
      " 3   Profession                             27901 non-null  int64  \n",
      " 4   Academic Pressure                      27901 non-null  float64\n",
      " 5   Work Pressure                          27901 non-null  float64\n",
      " 6   CGPA                                   27901 non-null  float64\n",
      " 7   Study Satisfaction                     27901 non-null  float64\n",
      " 8   Job Satisfaction                       27901 non-null  float64\n",
      " 9   Sleep Duration                         27901 non-null  float64\n",
      " 10  Dietary Habits                         27901 non-null  int64  \n",
      " 11  Degree                                 27901 non-null  int64  \n",
      " 12  Have you ever had suicidal thoughts ?  27901 non-null  int64  \n",
      " 13  Work/Study Hours                       27901 non-null  float64\n",
      " 14  Financial Stress                       27898 non-null  float64\n",
      " 15  Family History of Mental Illness       27901 non-null  int64  \n",
      " 16  Depression                             27901 non-null  int64  \n",
      "dtypes: float64(9), int64(8)\n",
      "memory usage: 3.6 MB\n"
     ]
    }
   ],
   "source": [
    "df.info()"
   ]
  },
  {
   "cell_type": "markdown",
   "id": "010f840b",
   "metadata": {
    "papermill": {
     "duration": 0.006427,
     "end_time": "2024-11-28T14:01:29.527373",
     "exception": false,
     "start_time": "2024-11-28T14:01:29.520946",
     "status": "completed"
    },
    "tags": []
   },
   "source": [
    "Our everything is good now. If we do not have any empty cell in our data, we can continue to machine learning part."
   ]
  },
  {
   "cell_type": "code",
   "execution_count": 8,
   "id": "8d0d4ed1",
   "metadata": {
    "execution": {
     "iopub.execute_input": "2024-11-28T14:01:29.542468Z",
     "iopub.status.busy": "2024-11-28T14:01:29.542069Z",
     "iopub.status.idle": "2024-11-28T14:01:29.552066Z",
     "shell.execute_reply": "2024-11-28T14:01:29.550975Z"
    },
    "papermill": {
     "duration": 0.020005,
     "end_time": "2024-11-28T14:01:29.554174",
     "exception": false,
     "start_time": "2024-11-28T14:01:29.534169",
     "status": "completed"
    },
    "tags": []
   },
   "outputs": [
    {
     "data": {
      "text/plain": [
       "Gender                                   0\n",
       "Age                                      0\n",
       "City                                     0\n",
       "Profession                               0\n",
       "Academic Pressure                        0\n",
       "Work Pressure                            0\n",
       "CGPA                                     0\n",
       "Study Satisfaction                       0\n",
       "Job Satisfaction                         0\n",
       "Sleep Duration                           0\n",
       "Dietary Habits                           0\n",
       "Degree                                   0\n",
       "Have you ever had suicidal thoughts ?    0\n",
       "Work/Study Hours                         0\n",
       "Financial Stress                         3\n",
       "Family History of Mental Illness         0\n",
       "Depression                               0\n",
       "dtype: int64"
      ]
     },
     "execution_count": 8,
     "metadata": {},
     "output_type": "execute_result"
    }
   ],
   "source": [
    "df.isna().sum()"
   ]
  },
  {
   "cell_type": "markdown",
   "id": "aef4b3b3",
   "metadata": {
    "papermill": {
     "duration": 0.006431,
     "end_time": "2024-11-28T14:01:29.567371",
     "exception": false,
     "start_time": "2024-11-28T14:01:29.560940",
     "status": "completed"
    },
    "tags": []
   },
   "source": [
    "There are some empty cells... Let's drop them."
   ]
  },
  {
   "cell_type": "code",
   "execution_count": 9,
   "id": "c9705e4a",
   "metadata": {
    "execution": {
     "iopub.execute_input": "2024-11-28T14:01:29.582095Z",
     "iopub.status.busy": "2024-11-28T14:01:29.581709Z",
     "iopub.status.idle": "2024-11-28T14:01:29.595747Z",
     "shell.execute_reply": "2024-11-28T14:01:29.594749Z"
    },
    "papermill": {
     "duration": 0.024216,
     "end_time": "2024-11-28T14:01:29.598143",
     "exception": false,
     "start_time": "2024-11-28T14:01:29.573927",
     "status": "completed"
    },
    "tags": []
   },
   "outputs": [
    {
     "data": {
      "text/plain": [
       "Gender                                   0\n",
       "Age                                      0\n",
       "City                                     0\n",
       "Profession                               0\n",
       "Academic Pressure                        0\n",
       "Work Pressure                            0\n",
       "CGPA                                     0\n",
       "Study Satisfaction                       0\n",
       "Job Satisfaction                         0\n",
       "Sleep Duration                           0\n",
       "Dietary Habits                           0\n",
       "Degree                                   0\n",
       "Have you ever had suicidal thoughts ?    0\n",
       "Work/Study Hours                         0\n",
       "Financial Stress                         0\n",
       "Family History of Mental Illness         0\n",
       "Depression                               0\n",
       "dtype: int64"
      ]
     },
     "execution_count": 9,
     "metadata": {},
     "output_type": "execute_result"
    }
   ],
   "source": [
    "df = df.dropna()\n",
    "df.isna().sum()"
   ]
  },
  {
   "cell_type": "markdown",
   "id": "633116a3",
   "metadata": {
    "papermill": {
     "duration": 0.006511,
     "end_time": "2024-11-28T14:01:29.611694",
     "exception": false,
     "start_time": "2024-11-28T14:01:29.605183",
     "status": "completed"
    },
    "tags": []
   },
   "source": [
    "Right now, we have not any empty cell."
   ]
  },
  {
   "cell_type": "markdown",
   "id": "dcc60651",
   "metadata": {
    "papermill": {
     "duration": 0.006453,
     "end_time": "2024-11-28T14:01:29.624878",
     "exception": false,
     "start_time": "2024-11-28T14:01:29.618425",
     "status": "completed"
    },
    "tags": []
   },
   "source": [
    "## Machine Learning\n",
    "\n",
    "In this part of the project, we will create some machine learning models that will classify our students if they have depression or not. Our classifiers will be:\n",
    "\n",
    "* Decision Tree\n",
    "* Random Forest\n",
    "* Extra Randomized Trees\n",
    "* LightGBM\n",
    "* AdaBoost\n",
    "\n",
    "For finding the best parameters, we will train <code>GridSearchCV</code>. Let's start with splitting our data"
   ]
  },
  {
   "cell_type": "code",
   "execution_count": 10,
   "id": "7cc5f8e9",
   "metadata": {
    "execution": {
     "iopub.execute_input": "2024-11-28T14:01:29.640099Z",
     "iopub.status.busy": "2024-11-28T14:01:29.639710Z",
     "iopub.status.idle": "2024-11-28T14:01:29.660565Z",
     "shell.execute_reply": "2024-11-28T14:01:29.659458Z"
    },
    "papermill": {
     "duration": 0.031448,
     "end_time": "2024-11-28T14:01:29.663094",
     "exception": false,
     "start_time": "2024-11-28T14:01:29.631646",
     "status": "completed"
    },
    "tags": []
   },
   "outputs": [],
   "source": [
    "# Split the data\n",
    "X = df.drop('Depression', axis=1)\n",
    "y = df['Depression']\n",
    "\n",
    "X_train, X_test, y_train, y_test = train_test_split(X, y, test_size=0.2, random_state=40)"
   ]
  },
  {
   "cell_type": "markdown",
   "id": "9d2a56fa",
   "metadata": {
    "papermill": {
     "duration": 0.006609,
     "end_time": "2024-11-28T14:01:29.676681",
     "exception": false,
     "start_time": "2024-11-28T14:01:29.670072",
     "status": "completed"
    },
    "tags": []
   },
   "source": [
    "Train <code>Decision Tree Classifier</code>."
   ]
  },
  {
   "cell_type": "code",
   "execution_count": 11,
   "id": "f8599910",
   "metadata": {
    "execution": {
     "iopub.execute_input": "2024-11-28T14:01:29.692549Z",
     "iopub.status.busy": "2024-11-28T14:01:29.691505Z",
     "iopub.status.idle": "2024-11-28T14:03:58.961228Z",
     "shell.execute_reply": "2024-11-28T14:03:58.960027Z"
    },
    "papermill": {
     "duration": 149.287179,
     "end_time": "2024-11-28T14:03:58.970595",
     "exception": false,
     "start_time": "2024-11-28T14:01:29.683416",
     "status": "completed"
    },
    "tags": []
   },
   "outputs": [
    {
     "name": "stdout",
     "output_type": "stream",
     "text": [
      "Accuracy Score: 0.8245519713261649\n",
      "Recall Score: 0.8245519713261649\n",
      "F1 Score: 0.8250522601063395\n"
     ]
    }
   ],
   "source": [
    "# Create parameters\n",
    "params = {'criterion': ['gini', 'log_loss', 'entropy'],\n",
    "          'max_depth': [None, 5, 10, 15, 20],\n",
    "          'min_samples_split': [2, 4, 5, 7, 9],\n",
    "          'min_samples_leaf': [1, 2, 4, 5, 6]}\n",
    "\n",
    "# Train a GridSearchCV\n",
    "grid = GridSearchCV(DecisionTreeClassifier(), params, cv=5).fit(X_train, y_train)\n",
    "\n",
    "# Train Decision Tree classifier\n",
    "dtc = DecisionTreeClassifier(**grid.best_params_).fit(X_train, y_train)\n",
    "y_hat = dtc.predict(X_test)\n",
    "\n",
    "# Evaluate its performance\n",
    "dtc_accuracy = accuracy_score(y_test, y_hat)\n",
    "dtc_recall = recall_score(y_test, y_hat, average='weighted')\n",
    "dtc_f1 = f1_score(y_test, y_hat, average='weighted')\n",
    "\n",
    "# Print the performance results\n",
    "print(f'''Accuracy Score: {dtc_accuracy}\n",
    "Recall Score: {dtc_recall}\n",
    "F1 Score: {dtc_f1}''')"
   ]
  },
  {
   "cell_type": "markdown",
   "id": "da143039",
   "metadata": {
    "papermill": {
     "duration": 0.006862,
     "end_time": "2024-11-28T14:03:58.984414",
     "exception": false,
     "start_time": "2024-11-28T14:03:58.977552",
     "status": "completed"
    },
    "tags": []
   },
   "source": [
    "We will talk about performances later. Let's continue with <code>Random Forest Classifier</code>."
   ]
  },
  {
   "cell_type": "code",
   "execution_count": 12,
   "id": "57a3ee5f",
   "metadata": {
    "execution": {
     "iopub.execute_input": "2024-11-28T14:03:58.999758Z",
     "iopub.status.busy": "2024-11-28T14:03:58.999330Z",
     "iopub.status.idle": "2024-11-28T14:04:00.172056Z",
     "shell.execute_reply": "2024-11-28T14:04:00.170843Z"
    },
    "papermill": {
     "duration": 1.183062,
     "end_time": "2024-11-28T14:04:00.174295",
     "exception": false,
     "start_time": "2024-11-28T14:03:58.991233",
     "status": "completed"
    },
    "tags": []
   },
   "outputs": [
    {
     "name": "stdout",
     "output_type": "stream",
     "text": [
      "Accuracy Score: 0.8381720430107527\n",
      "Recall Score: 0.8381720430107527\n",
      "F1 Score: 0.8370245663052226\n"
     ]
    }
   ],
   "source": [
    "# Train Random Forest Classifier\n",
    "rfc = RandomForestClassifier(**grid.best_params_).fit(X_train, y_train)\n",
    "y_hat = rfc.predict(X_test)\n",
    "\n",
    "# Evaluate its performance\n",
    "rfc_accuracy = accuracy_score(y_test, y_hat)\n",
    "rfc_recall = recall_score(y_test, y_hat, average='weighted')\n",
    "rfc_f1 = f1_score(y_test, y_hat, average='weighted')\n",
    "\n",
    "# Print the performance results\n",
    "print(f'''Accuracy Score: {rfc_accuracy}\n",
    "Recall Score: {rfc_recall}\n",
    "F1 Score: {rfc_f1}''')"
   ]
  },
  {
   "cell_type": "markdown",
   "id": "31226b2d",
   "metadata": {
    "papermill": {
     "duration": 0.006701,
     "end_time": "2024-11-28T14:04:00.188029",
     "exception": false,
     "start_time": "2024-11-28T14:04:00.181328",
     "status": "completed"
    },
    "tags": []
   },
   "source": [
    "Train an <code>Extra Trees Classifier</code>."
   ]
  },
  {
   "cell_type": "code",
   "execution_count": 13,
   "id": "a2b176cd",
   "metadata": {
    "execution": {
     "iopub.execute_input": "2024-11-28T14:04:00.203501Z",
     "iopub.status.busy": "2024-11-28T14:04:00.203096Z",
     "iopub.status.idle": "2024-11-28T14:04:01.004128Z",
     "shell.execute_reply": "2024-11-28T14:04:01.003049Z"
    },
    "papermill": {
     "duration": 0.811519,
     "end_time": "2024-11-28T14:04:01.006331",
     "exception": false,
     "start_time": "2024-11-28T14:04:00.194812",
     "status": "completed"
    },
    "tags": []
   },
   "outputs": [
    {
     "name": "stdout",
     "output_type": "stream",
     "text": [
      "Accuracy Score: 0.8197132616487455\n",
      "Recall Score: 0.8197132616487455\n",
      "F1 Score: 0.8177244391690462\n"
     ]
    }
   ],
   "source": [
    "# Train an Extra Trees Classifier and make predictions\n",
    "etc = ExtraTreesClassifier(**grid.best_params_).fit(X_train, y_train)\n",
    "y_hat = etc.predict(X_test)\n",
    "\n",
    "# Evaluate the performance\n",
    "etc_accuracy = accuracy_score(y_test, y_hat)\n",
    "etc_recall = recall_score(y_test, y_hat, average='weighted')\n",
    "etc_f1 = f1_score(y_test, y_hat, average='weighted')\n",
    "\n",
    "# Print the performance results\n",
    "print(f'''Accuracy Score: {etc_accuracy}\n",
    "Recall Score: {etc_recall}\n",
    "F1 Score: {etc_f1}''')"
   ]
  },
  {
   "cell_type": "markdown",
   "id": "a62bf20a",
   "metadata": {
    "papermill": {
     "duration": 0.006704,
     "end_time": "2024-11-28T14:04:01.020160",
     "exception": false,
     "start_time": "2024-11-28T14:04:01.013456",
     "status": "completed"
    },
    "tags": []
   },
   "source": [
    "Train a <code>LightGBM</code>."
   ]
  },
  {
   "cell_type": "code",
   "execution_count": 14,
   "id": "5831184c",
   "metadata": {
    "execution": {
     "iopub.execute_input": "2024-11-28T14:04:01.036754Z",
     "iopub.status.busy": "2024-11-28T14:04:01.036322Z",
     "iopub.status.idle": "2024-11-28T14:09:24.347838Z",
     "shell.execute_reply": "2024-11-28T14:09:24.346613Z"
    },
    "papermill": {
     "duration": 323.328447,
     "end_time": "2024-11-28T14:09:24.356231",
     "exception": false,
     "start_time": "2024-11-28T14:04:01.027784",
     "status": "completed"
    },
    "tags": []
   },
   "outputs": [
    {
     "name": "stdout",
     "output_type": "stream",
     "text": [
      "Accuracy Score: 0.8492831541218638\n",
      "Recall Score: 0.8492831541218638\n",
      "F1 Score: 0.8489052656301938\n"
     ]
    }
   ],
   "source": [
    "# Create parameters and train a GridSearchCV\n",
    "params = {\n",
    "    'num_leaves': [7, 15, 31],\n",
    "    'learning_rate': [0.01, 0.1, 0.2],\n",
    "    'n_estimators': [50, 100, 200],\n",
    "    'max_depth': [3, 5, -1],\n",
    "    'min_child_samples': [10, 20, 30]\n",
    "}\n",
    "\n",
    "grid = GridSearchCV(lgb.LGBMClassifier(verbose=-1), params, cv=5).fit(X_train, y_train)\n",
    "\n",
    "# Train a LightGBM and make predictions\n",
    "lgb_model = lgb.LGBMClassifier(**grid.best_params_, verbose=-1).fit(X_train, y_train)\n",
    "y_hat = lgb_model.predict(X_test)\n",
    "\n",
    "# Evaluate the performance\n",
    "lgb_accuracy = accuracy_score(y_test, y_hat)\n",
    "lgb_recall = recall_score(y_test, y_hat, average='weighted')\n",
    "lgb_f1 = f1_score(y_test, y_hat, average='weighted')\n",
    "\n",
    "# Print the performance results\n",
    "print(f'''Accuracy Score: {lgb_accuracy}\n",
    "Recall Score: {lgb_recall}\n",
    "F1 Score: {lgb_f1}''')"
   ]
  },
  {
   "cell_type": "markdown",
   "id": "74af1c6d",
   "metadata": {
    "papermill": {
     "duration": 0.006963,
     "end_time": "2024-11-28T14:09:24.370545",
     "exception": false,
     "start_time": "2024-11-28T14:09:24.363582",
     "status": "completed"
    },
    "tags": []
   },
   "source": [
    "Train an <code>AdaBoost Classifier</code>."
   ]
  },
  {
   "cell_type": "code",
   "execution_count": 15,
   "id": "31725b2e",
   "metadata": {
    "execution": {
     "iopub.execute_input": "2024-11-28T14:09:24.387014Z",
     "iopub.status.busy": "2024-11-28T14:09:24.386577Z",
     "iopub.status.idle": "2024-11-28T14:09:34.082638Z",
     "shell.execute_reply": "2024-11-28T14:09:34.081461Z"
    },
    "papermill": {
     "duration": 9.707562,
     "end_time": "2024-11-28T14:09:34.085525",
     "exception": false,
     "start_time": "2024-11-28T14:09:24.377963",
     "status": "completed"
    },
    "tags": []
   },
   "outputs": [
    {
     "name": "stdout",
     "output_type": "stream",
     "text": [
      "Accuracy Score: 0.7711469534050179\n",
      "Recall Score: 0.7711469534050179\n",
      "F1 Score: 0.7713048092895549\n"
     ]
    }
   ],
   "source": [
    "# Create parameters and train a GridSearchCV\n",
    "params = {\n",
    "    'n_estimators': [50, 100, 200],\n",
    "    'learning_rate': [0.01, 0.1, 1],\n",
    "    'algorithm': ['SAMME', 'SAMME.R']\n",
    "}\n",
    "\n",
    "grid = GridSearchCV(AdaBoostClassifier(estimator=DecisionTreeClassifier()), params, cv=5).fit(X_train, y_train)\n",
    "\n",
    "# Train an AdaBoost Classifier and make predictions\n",
    "abc = AdaBoostClassifier(estimator=DecisionTreeClassifier(), **grid.best_params_).fit(X_train, y_train)\n",
    "y_hat = abc.predict(X_test)\n",
    "\n",
    "# Evaluate the performance\n",
    "abc_accuracy = accuracy_score(y_test, y_hat)\n",
    "abc_recall = recall_score(y_test, y_hat, average='weighted')\n",
    "abc_f1 = f1_score(y_test, y_hat, average='weighted')\n",
    "\n",
    "# Print the performance results\n",
    "print(f'''Accuracy Score: {abc_accuracy}\n",
    "Recall Score: {abc_recall}\n",
    "F1 Score: {abc_f1}''')"
   ]
  },
  {
   "cell_type": "markdown",
   "id": "d8cdb3e2",
   "metadata": {
    "papermill": {
     "duration": 0.007048,
     "end_time": "2024-11-28T14:09:34.099998",
     "exception": false,
     "start_time": "2024-11-28T14:09:34.092950",
     "status": "completed"
    },
    "tags": []
   },
   "source": [
    "We created all of our classifiers! For selecting the best model, let's create a graph and see performance evaluation. After that, we can select the best model."
   ]
  },
  {
   "cell_type": "code",
   "execution_count": 16,
   "id": "2d97a543",
   "metadata": {
    "execution": {
     "iopub.execute_input": "2024-11-28T14:09:34.117137Z",
     "iopub.status.busy": "2024-11-28T14:09:34.116664Z",
     "iopub.status.idle": "2024-11-28T14:09:34.132680Z",
     "shell.execute_reply": "2024-11-28T14:09:34.131617Z"
    },
    "papermill": {
     "duration": 0.02729,
     "end_time": "2024-11-28T14:09:34.135014",
     "exception": false,
     "start_time": "2024-11-28T14:09:34.107724",
     "status": "completed"
    },
    "tags": []
   },
   "outputs": [
    {
     "data": {
      "text/html": [
       "<div>\n",
       "<style scoped>\n",
       "    .dataframe tbody tr th:only-of-type {\n",
       "        vertical-align: middle;\n",
       "    }\n",
       "\n",
       "    .dataframe tbody tr th {\n",
       "        vertical-align: top;\n",
       "    }\n",
       "\n",
       "    .dataframe thead th {\n",
       "        text-align: right;\n",
       "    }\n",
       "</style>\n",
       "<table border=\"1\" class=\"dataframe\">\n",
       "  <thead>\n",
       "    <tr style=\"text-align: right;\">\n",
       "      <th></th>\n",
       "      <th>Decision Tree</th>\n",
       "      <th>Extra Randomized Trees</th>\n",
       "      <th>Random Forest</th>\n",
       "      <th>LightGBM</th>\n",
       "      <th>AdaBoost</th>\n",
       "    </tr>\n",
       "  </thead>\n",
       "  <tbody>\n",
       "    <tr>\n",
       "      <th>Accuracy</th>\n",
       "      <td>0.824552</td>\n",
       "      <td>0.819713</td>\n",
       "      <td>0.838172</td>\n",
       "      <td>0.849283</td>\n",
       "      <td>0.771147</td>\n",
       "    </tr>\n",
       "    <tr>\n",
       "      <th>Recall</th>\n",
       "      <td>0.824552</td>\n",
       "      <td>0.819713</td>\n",
       "      <td>0.838172</td>\n",
       "      <td>0.849283</td>\n",
       "      <td>0.771147</td>\n",
       "    </tr>\n",
       "    <tr>\n",
       "      <th>F1</th>\n",
       "      <td>0.825052</td>\n",
       "      <td>0.817724</td>\n",
       "      <td>0.837025</td>\n",
       "      <td>0.848905</td>\n",
       "      <td>0.771305</td>\n",
       "    </tr>\n",
       "  </tbody>\n",
       "</table>\n",
       "</div>"
      ],
      "text/plain": [
       "          Decision Tree  Extra Randomized Trees  Random Forest  LightGBM  \\\n",
       "Accuracy       0.824552                0.819713       0.838172  0.849283   \n",
       "Recall         0.824552                0.819713       0.838172  0.849283   \n",
       "F1             0.825052                0.817724       0.837025  0.848905   \n",
       "\n",
       "          AdaBoost  \n",
       "Accuracy  0.771147  \n",
       "Recall    0.771147  \n",
       "F1        0.771305  "
      ]
     },
     "execution_count": 16,
     "metadata": {},
     "output_type": "execute_result"
    }
   ],
   "source": [
    "# Create scores dictionary\n",
    "scores = {'Decision Tree': [dtc_accuracy, dtc_recall, dtc_f1],\n",
    "          'Extra Randomized Trees': [etc_accuracy, etc_recall, etc_f1],\n",
    "          'Random Forest': [rfc_accuracy, rfc_recall, rfc_f1],\n",
    "          'LightGBM': [lgb_accuracy, lgb_recall, lgb_f1],\n",
    "          'AdaBoost': [abc_accuracy, abc_recall, abc_f1]\n",
    "}\n",
    "\n",
    "# Create the data frame and show it\n",
    "scores_table = pd.DataFrame(scores)\n",
    "scores_table.index = ['Accuracy', 'Recall', 'F1']\n",
    "scores_table.head()"
   ]
  },
  {
   "cell_type": "code",
   "execution_count": 17,
   "id": "58e0fa99",
   "metadata": {
    "execution": {
     "iopub.execute_input": "2024-11-28T14:09:34.152357Z",
     "iopub.status.busy": "2024-11-28T14:09:34.151957Z",
     "iopub.status.idle": "2024-11-28T14:09:34.575838Z",
     "shell.execute_reply": "2024-11-28T14:09:34.574714Z"
    },
    "papermill": {
     "duration": 0.435608,
     "end_time": "2024-11-28T14:09:34.578290",
     "exception": false,
     "start_time": "2024-11-28T14:09:34.142682",
     "status": "completed"
    },
    "tags": []
   },
   "outputs": [
    {
     "data": {
      "image/png": "[encoded data removed]",
      "text/plain": [
       "<Figure size 2000x1000 with 1 Axes>"
      ]
     },
     "metadata": {},
     "output_type": "display_data"
    }
   ],
   "source": [
    "# Create and show the graph\n",
    "scores_table.T.plot(kind='bar', figsize=(20, 10))\n",
    "plt.title('Performance Evaluation')\n",
    "plt.xlabel('Models')\n",
    "plt.ylabel('Score')\n",
    "plt.ylim([0, 1])\n",
    "plt.grid()\n",
    "plt.show()"
   ]
  },
  {
   "cell_type": "markdown",
   "id": "6ffe9da4",
   "metadata": {
    "papermill": {
     "duration": 0.007948,
     "end_time": "2024-11-28T14:09:34.594861",
     "exception": false,
     "start_time": "2024-11-28T14:09:34.586913",
     "status": "completed"
    },
    "tags": []
   },
   "source": [
    "From results, you can see that we generally have scores above 80%. Our models are successful generally. But for my case (when I run my notebook), I can see that, the best performance came from <code>LightGBM Classifier</code>. So, we can choose this model for this case. So, this project finishes here. Hope that it will help to the future projects.\n",
    "\n",
    "Feel free if you want to contribute this project.\n",
    "\n",
    "### Thank you.\n",
    "\n",
    "#### Mert Kont (Author of the Project)"
   ]
  }
 ],
 "metadata": {
  "kaggle": {
   "accelerator": "none",
   "dataSources": [
    {
     "datasetId": 6144877,
     "sourceId": 9985284,
     "sourceType": "datasetVersion"
    }
   ],
   "dockerImageVersionId": 30786,
   "isGpuEnabled": false,
   "isInternetEnabled": true,
   "language": "python",
   "sourceType": "notebook"
  },
  "kernelspec": {
   "display_name": "Python 3",
   "language": "python",
   "name": "python3"
  },
  "language_info": {
   "codemirror_mode": {
    "name": "ipython",
    "version": 3
   },
   "file_extension": ".py",
   "mimetype": "text/x-python",
   "name": "python",
   "nbconvert_exporter": "python",
   "pygments_lexer": "ipython3",
   "version": "3.10.14"
  },
  "papermill": {
   "default_parameters": {},
   "duration": 492.325987,
   "end_time": "2024-11-28T14:09:35.325511",
   "environment_variables": {},
   "exception": null,
   "input_path": "__notebook__.ipynb",
   "output_path": "__notebook__.ipynb",
   "parameters": {},
   "start_time": "2024-11-28T14:01:22.999524",
   "version": "2.6.0"
  }
 },
 "nbformat": 4,
 "nbformat_minor": 5
}
